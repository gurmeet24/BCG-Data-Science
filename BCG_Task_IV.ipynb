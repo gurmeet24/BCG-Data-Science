{
  "nbformat": 4,
  "nbformat_minor": 0,
  "metadata": {
    "colab": {
      "provenance": []
    },
    "kernelspec": {
      "name": "python3",
      "display_name": "Python 3"
    },
    "language_info": {
      "name": "python"
    }
  },
  "cells": [
    {
      "cell_type": "code",
      "source": [
        "import warnings\n",
        "warnings.filterwarnings(\"ignore\", category=FutureWarning)\n",
        "import pandas as pd\n",
        "import numpy as np\n",
        "import seaborn as sns\n",
        "from datetime import datetime\n",
        "import matplotlib.pyplot as plt"
      ],
      "metadata": {
        "id": "TmLuMCam8MlR"
      },
      "execution_count": 15,
      "outputs": []
    },
    {
      "cell_type": "code",
      "source": [
        "%matplotlib inline"
      ],
      "metadata": {
        "id": "_eIYuJO48Npf"
      },
      "execution_count": 16,
      "outputs": []
    },
    {
      "cell_type": "code",
      "source": [
        "sns.set(color_codes=True)"
      ],
      "metadata": {
        "id": "CPlyYWFr8O1Y"
      },
      "execution_count": 17,
      "outputs": []
    },
    {
      "cell_type": "code",
      "source": [
        "df = pd.read_csv('/content/data_for_predictions.csv')\n",
        "df.drop(columns=[\"Unnamed: 0\"], inplace=True)\n",
        "print(df.head())"
      ],
      "metadata": {
        "colab": {
          "base_uri": "https://localhost:8080/"
        },
        "id": "nhkN7Tsw8QLY",
        "outputId": "fe775346-d698-48e8-a346-78826acad997"
      },
      "execution_count": 18,
      "outputs": [
        {
          "output_type": "stream",
          "name": "stdout",
          "text": [
            "                                 id  cons_12m  cons_gas_12m  cons_last_month  \\\n",
            "0  24011ae4ebbe3035111d65fa7c15bc57  0.000000      4.739944         0.000000   \n",
            "1  d29c2c54acc38ff3c0614d0a653813dd  3.668479      0.000000         0.000000   \n",
            "2  764c75f661154dac3a6c254cd082ea7d  2.736397      0.000000         0.000000   \n",
            "3  bba03439a292a1e166f80264c16191cb  3.200029      0.000000         0.000000   \n",
            "4  149d57cf92fc41cf94415803a877cb4b  3.646011      0.000000         2.721811   \n",
            "\n",
            "   forecast_cons_12m  forecast_discount_energy  forecast_meter_rent_12m  \\\n",
            "0           0.000000                       0.0                 0.444045   \n",
            "1           2.280920                       0.0                 1.237292   \n",
            "2           1.689841                       0.0                 1.599009   \n",
            "3           2.382089                       0.0                 1.318689   \n",
            "4           2.650065                       0.0                 2.122969   \n",
            "\n",
            "   forecast_price_energy_off_peak  forecast_price_energy_peak  \\\n",
            "0                        0.114481                    0.098142   \n",
            "1                        0.145711                    0.000000   \n",
            "2                        0.165794                    0.087899   \n",
            "3                        0.146694                    0.000000   \n",
            "4                        0.116900                    0.100015   \n",
            "\n",
            "   forecast_price_pow_off_peak  ...  months_modif_prod  months_renewal  \\\n",
            "0                    40.606701  ...                  2               6   \n",
            "1                    44.311378  ...                 76               4   \n",
            "2                    44.311378  ...                 68               8   \n",
            "3                    44.311378  ...                 69               9   \n",
            "4                    40.606701  ...                 71               9   \n",
            "\n",
            "   channel_MISSING  channel_ewpakwlliwisiwduibdlfmalxowmwpci  \\\n",
            "0                0                                         0   \n",
            "1                1                                         0   \n",
            "2                0                                         0   \n",
            "3                0                                         0   \n",
            "4                1                                         0   \n",
            "\n",
            "   channel_foosdfpfkusacimwkcsosbicdxkicaua  \\\n",
            "0                                         1   \n",
            "1                                         0   \n",
            "2                                         1   \n",
            "3                                         0   \n",
            "4                                         0   \n",
            "\n",
            "   channel_lmkebamcaaclubfxadlmueccxoimlema  \\\n",
            "0                                         0   \n",
            "1                                         0   \n",
            "2                                         0   \n",
            "3                                         1   \n",
            "4                                         0   \n",
            "\n",
            "   channel_usilxuppasemubllopkaafesmlibmsdf  \\\n",
            "0                                         0   \n",
            "1                                         0   \n",
            "2                                         0   \n",
            "3                                         0   \n",
            "4                                         0   \n",
            "\n",
            "   origin_up_kamkkxfxxuwbdslkwifmmcsiusiuosws  \\\n",
            "0                                           0   \n",
            "1                                           1   \n",
            "2                                           1   \n",
            "3                                           1   \n",
            "4                                           1   \n",
            "\n",
            "   origin_up_ldkssxwpmemidmecebumciepifcamkci  \\\n",
            "0                                           0   \n",
            "1                                           0   \n",
            "2                                           0   \n",
            "3                                           0   \n",
            "4                                           0   \n",
            "\n",
            "   origin_up_lxidpiddsbxsbosboudacockeimpuepw  \n",
            "0                                           1  \n",
            "1                                           0  \n",
            "2                                           0  \n",
            "3                                           0  \n",
            "4                                           0  \n",
            "\n",
            "[5 rows x 63 columns]\n"
          ]
        }
      ]
    },
    {
      "cell_type": "code",
      "source": [
        "from sklearn import metrics\n",
        "from sklearn.model_selection import train_test_split\n",
        "from sklearn.ensemble import RandomForestClassifier\n",
        "from sklearn.impute import SimpleImputer"
      ],
      "metadata": {
        "id": "c_8AoSeS8RpP"
      },
      "execution_count": 19,
      "outputs": []
    },
    {
      "cell_type": "code",
      "source": [
        "train_df = df.copy()"
      ],
      "metadata": {
        "id": "YksuUJhA8SET"
      },
      "execution_count": 20,
      "outputs": []
    },
    {
      "cell_type": "code",
      "source": [
        "y = df['churn']\n",
        "X = df.drop(columns=['id', 'churn'])\n",
        "print(X.shape)\n",
        "print(y.shape)"
      ],
      "metadata": {
        "colab": {
          "base_uri": "https://localhost:8080/"
        },
        "id": "4hKHEEdP8UBa",
        "outputId": "c1c4194d-c338-4bd8-ecd1-426cf1fb4595"
      },
      "execution_count": 21,
      "outputs": [
        {
          "output_type": "stream",
          "name": "stdout",
          "text": [
            "(14606, 61)\n",
            "(14606,)\n"
          ]
        }
      ]
    },
    {
      "cell_type": "code",
      "source": [
        "print(\"Number of NaN values before imputation:\")\n",
        "print(X.isna().sum())"
      ],
      "metadata": {
        "colab": {
          "base_uri": "https://localhost:8080/"
        },
        "id": "CZ7D9OQa8avX",
        "outputId": "f619a330-e90f-4761-9e05-bd0c83ba10d2"
      },
      "execution_count": 22,
      "outputs": [
        {
          "output_type": "stream",
          "name": "stdout",
          "text": [
            "Number of NaN values before imputation:\n",
            "cons_12m                                      0\n",
            "cons_gas_12m                                  0\n",
            "cons_last_month                               0\n",
            "forecast_cons_12m                             0\n",
            "forecast_discount_energy                      0\n",
            "                                             ..\n",
            "channel_lmkebamcaaclubfxadlmueccxoimlema      0\n",
            "channel_usilxuppasemubllopkaafesmlibmsdf      0\n",
            "origin_up_kamkkxfxxuwbdslkwifmmcsiusiuosws    0\n",
            "origin_up_ldkssxwpmemidmecebumciepifcamkci    0\n",
            "origin_up_lxidpiddsbxsbosboudacockeimpuepw    0\n",
            "Length: 61, dtype: int64\n"
          ]
        }
      ]
    },
    {
      "cell_type": "code",
      "source": [
        "imputer = SimpleImputer(strategy='mean')\n",
        "X_imputed = pd.DataFrame(imputer.fit_transform(X), columns=X.columns)"
      ],
      "metadata": {
        "id": "GWBsqZKS8fEa"
      },
      "execution_count": 23,
      "outputs": []
    },
    {
      "cell_type": "code",
      "source": [
        "print(\"Number of NaN values after imputation:\")\n",
        "print(X_imputed.isna().sum())"
      ],
      "metadata": {
        "colab": {
          "base_uri": "https://localhost:8080/"
        },
        "id": "KFjAOH158haw",
        "outputId": "99c6b81c-3d5c-4355-bce7-6ae987c8f0a4"
      },
      "execution_count": 24,
      "outputs": [
        {
          "output_type": "stream",
          "name": "stdout",
          "text": [
            "Number of NaN values after imputation:\n",
            "cons_12m                                      0\n",
            "cons_gas_12m                                  0\n",
            "cons_last_month                               0\n",
            "forecast_cons_12m                             0\n",
            "forecast_discount_energy                      0\n",
            "                                             ..\n",
            "channel_lmkebamcaaclubfxadlmueccxoimlema      0\n",
            "channel_usilxuppasemubllopkaafesmlibmsdf      0\n",
            "origin_up_kamkkxfxxuwbdslkwifmmcsiusiuosws    0\n",
            "origin_up_ldkssxwpmemidmecebumciepifcamkci    0\n",
            "origin_up_lxidpiddsbxsbosboudacockeimpuepw    0\n",
            "Length: 61, dtype: int64\n"
          ]
        }
      ]
    },
    {
      "cell_type": "code",
      "source": [
        "X_train, X_test, y_train, y_test = train_test_split(X_imputed, y, test_size=0.25, random_state=42)\n",
        "print(X_train.shape)\n",
        "print(y_train.shape)\n",
        "print(X_test.shape)\n",
        "print(y_test.shape)"
      ],
      "metadata": {
        "colab": {
          "base_uri": "https://localhost:8080/"
        },
        "id": "DFRp1LPz8kTi",
        "outputId": "52265f3c-08da-4e2b-ecf3-3dccc2a775bb"
      },
      "execution_count": 25,
      "outputs": [
        {
          "output_type": "stream",
          "name": "stdout",
          "text": [
            "(10954, 61)\n",
            "(10954,)\n",
            "(3652, 61)\n",
            "(3652,)\n"
          ]
        }
      ]
    },
    {
      "cell_type": "code",
      "source": [
        "model = RandomForestClassifier(n_estimators=100, max_depth=None, random_state=42)\n",
        "model.fit(X_train, y_train)"
      ],
      "metadata": {
        "colab": {
          "base_uri": "https://localhost:8080/",
          "height": 74
        },
        "id": "ZsqIN2WB8m7x",
        "outputId": "689defa8-a016-448d-b638-4dfa24a35a93"
      },
      "execution_count": 26,
      "outputs": [
        {
          "output_type": "execute_result",
          "data": {
            "text/plain": [
              "RandomForestClassifier(random_state=42)"
            ],
            "text/html": [
              "<style>#sk-container-id-1 {color: black;background-color: white;}#sk-container-id-1 pre{padding: 0;}#sk-container-id-1 div.sk-toggleable {background-color: white;}#sk-container-id-1 label.sk-toggleable__label {cursor: pointer;display: block;width: 100%;margin-bottom: 0;padding: 0.3em;box-sizing: border-box;text-align: center;}#sk-container-id-1 label.sk-toggleable__label-arrow:before {content: \"▸\";float: left;margin-right: 0.25em;color: #696969;}#sk-container-id-1 label.sk-toggleable__label-arrow:hover:before {color: black;}#sk-container-id-1 div.sk-estimator:hover label.sk-toggleable__label-arrow:before {color: black;}#sk-container-id-1 div.sk-toggleable__content {max-height: 0;max-width: 0;overflow: hidden;text-align: left;background-color: #f0f8ff;}#sk-container-id-1 div.sk-toggleable__content pre {margin: 0.2em;color: black;border-radius: 0.25em;background-color: #f0f8ff;}#sk-container-id-1 input.sk-toggleable__control:checked~div.sk-toggleable__content {max-height: 200px;max-width: 100%;overflow: auto;}#sk-container-id-1 input.sk-toggleable__control:checked~label.sk-toggleable__label-arrow:before {content: \"▾\";}#sk-container-id-1 div.sk-estimator input.sk-toggleable__control:checked~label.sk-toggleable__label {background-color: #d4ebff;}#sk-container-id-1 div.sk-label input.sk-toggleable__control:checked~label.sk-toggleable__label {background-color: #d4ebff;}#sk-container-id-1 input.sk-hidden--visually {border: 0;clip: rect(1px 1px 1px 1px);clip: rect(1px, 1px, 1px, 1px);height: 1px;margin: -1px;overflow: hidden;padding: 0;position: absolute;width: 1px;}#sk-container-id-1 div.sk-estimator {font-family: monospace;background-color: #f0f8ff;border: 1px dotted black;border-radius: 0.25em;box-sizing: border-box;margin-bottom: 0.5em;}#sk-container-id-1 div.sk-estimator:hover {background-color: #d4ebff;}#sk-container-id-1 div.sk-parallel-item::after {content: \"\";width: 100%;border-bottom: 1px solid gray;flex-grow: 1;}#sk-container-id-1 div.sk-label:hover label.sk-toggleable__label {background-color: #d4ebff;}#sk-container-id-1 div.sk-serial::before {content: \"\";position: absolute;border-left: 1px solid gray;box-sizing: border-box;top: 0;bottom: 0;left: 50%;z-index: 0;}#sk-container-id-1 div.sk-serial {display: flex;flex-direction: column;align-items: center;background-color: white;padding-right: 0.2em;padding-left: 0.2em;position: relative;}#sk-container-id-1 div.sk-item {position: relative;z-index: 1;}#sk-container-id-1 div.sk-parallel {display: flex;align-items: stretch;justify-content: center;background-color: white;position: relative;}#sk-container-id-1 div.sk-item::before, #sk-container-id-1 div.sk-parallel-item::before {content: \"\";position: absolute;border-left: 1px solid gray;box-sizing: border-box;top: 0;bottom: 0;left: 50%;z-index: -1;}#sk-container-id-1 div.sk-parallel-item {display: flex;flex-direction: column;z-index: 1;position: relative;background-color: white;}#sk-container-id-1 div.sk-parallel-item:first-child::after {align-self: flex-end;width: 50%;}#sk-container-id-1 div.sk-parallel-item:last-child::after {align-self: flex-start;width: 50%;}#sk-container-id-1 div.sk-parallel-item:only-child::after {width: 0;}#sk-container-id-1 div.sk-dashed-wrapped {border: 1px dashed gray;margin: 0 0.4em 0.5em 0.4em;box-sizing: border-box;padding-bottom: 0.4em;background-color: white;}#sk-container-id-1 div.sk-label label {font-family: monospace;font-weight: bold;display: inline-block;line-height: 1.2em;}#sk-container-id-1 div.sk-label-container {text-align: center;}#sk-container-id-1 div.sk-container {/* jupyter's `normalize.less` sets `[hidden] { display: none; }` but bootstrap.min.css set `[hidden] { display: none !important; }` so we also need the `!important` here to be able to override the default hidden behavior on the sphinx rendered scikit-learn.org. See: https://github.com/scikit-learn/scikit-learn/issues/21755 */display: inline-block !important;position: relative;}#sk-container-id-1 div.sk-text-repr-fallback {display: none;}</style><div id=\"sk-container-id-1\" class=\"sk-top-container\"><div class=\"sk-text-repr-fallback\"><pre>RandomForestClassifier(random_state=42)</pre><b>In a Jupyter environment, please rerun this cell to show the HTML representation or trust the notebook. <br />On GitHub, the HTML representation is unable to render, please try loading this page with nbviewer.org.</b></div><div class=\"sk-container\" hidden><div class=\"sk-item\"><div class=\"sk-estimator sk-toggleable\"><input class=\"sk-toggleable__control sk-hidden--visually\" id=\"sk-estimator-id-1\" type=\"checkbox\" checked><label for=\"sk-estimator-id-1\" class=\"sk-toggleable__label sk-toggleable__label-arrow\">RandomForestClassifier</label><div class=\"sk-toggleable__content\"><pre>RandomForestClassifier(random_state=42)</pre></div></div></div></div></div>"
            ]
          },
          "metadata": {},
          "execution_count": 26
        }
      ]
    },
    {
      "cell_type": "code",
      "source": [
        "y_pred = model.predict(X_test)"
      ],
      "metadata": {
        "id": "SGAKAh_W8qKn"
      },
      "execution_count": 27,
      "outputs": []
    },
    {
      "cell_type": "code",
      "source": [
        "accuracy = metrics.accuracy_score(y_test, y_pred)\n",
        "precision = metrics.precision_score(y_test, y_pred)\n",
        "recall = metrics.recall_score(y_test, y_pred)\n",
        "f1 = metrics.f1_score(y_test, y_pred)"
      ],
      "metadata": {
        "id": "vHT0TGJ78tZI"
      },
      "execution_count": 28,
      "outputs": []
    },
    {
      "cell_type": "code",
      "source": [
        "print(f\"Accuracy: {accuracy:.4f}\")\n",
        "print(f\"Precision: {precision:.4f}\")\n",
        "print(f\"Recall: {recall:.4f}\")\n",
        "print(f\"F1 Score: {f1:.4f}\")"
      ],
      "metadata": {
        "colab": {
          "base_uri": "https://localhost:8080/"
        },
        "id": "8o6vs4vD8vLl",
        "outputId": "0057f4ce-1af3-4cb0-ce4b-205afffcc5bf"
      },
      "execution_count": 29,
      "outputs": [
        {
          "output_type": "stream",
          "name": "stdout",
          "text": [
            "Accuracy: 0.9039\n",
            "Precision: 0.8261\n",
            "Recall: 0.0519\n",
            "F1 Score: 0.0977\n"
          ]
        }
      ]
    },
    {
      "cell_type": "code",
      "source": [
        "\n",
        "conf_matrix = metrics.confusion_matrix(y_test, y_pred)\n",
        "sns.heatmap(conf_matrix, annot=True, fmt='d', cmap='Blues', xticklabels=['Not Churn', 'Churn'], yticklabels=['Not Churn', 'Churn'])\n",
        "plt.xlabel('Predicted')\n",
        "plt.ylabel('Actual')\n",
        "plt.title('Confusion Matrix')\n",
        "plt.show()\n"
      ],
      "metadata": {
        "colab": {
          "base_uri": "https://localhost:8080/",
          "height": 480
        },
        "id": "YogqhB9L8Iyf",
        "outputId": "3f8012ca-e1ac-488c-e049-3cc67cf916de"
      },
      "execution_count": 30,
      "outputs": [
        {
          "output_type": "display_data",
          "data": {
            "text/plain": [
              "<Figure size 640x480 with 2 Axes>"
            ],
            "image/png": "[encoded data removed]"
          },
          "metadata": {}
        }
      ]
    }
  ]
}